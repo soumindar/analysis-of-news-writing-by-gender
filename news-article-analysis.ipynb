{
 "cells": [
  {
   "cell_type": "code",
   "execution_count": 1,
   "metadata": {},
   "outputs": [],
   "source": [
    "# import libraries\n",
    "import pandas as pd\n",
    "import json\n",
    "import nltk\n",
    "import re"
   ]
  },
  {
   "cell_type": "code",
   "execution_count": 2,
   "metadata": {},
   "outputs": [
    {
     "name": "stdout",
     "output_type": "stream",
     "text": [
      "Total data: 15825\n"
     ]
    },
    {
     "data": {
      "text/html": [
       "<div>\n",
       "<style scoped>\n",
       "    .dataframe tbody tr th:only-of-type {\n",
       "        vertical-align: middle;\n",
       "    }\n",
       "\n",
       "    .dataframe tbody tr th {\n",
       "        vertical-align: top;\n",
       "    }\n",
       "\n",
       "    .dataframe thead th {\n",
       "        text-align: right;\n",
       "    }\n",
       "</style>\n",
       "<table border=\"1\" class=\"dataframe\">\n",
       "  <thead>\n",
       "    <tr style=\"text-align: right;\">\n",
       "      <th></th>\n",
       "      <th>news_post_date</th>\n",
       "      <th>language</th>\n",
       "      <th>content</th>\n",
       "    </tr>\n",
       "  </thead>\n",
       "  <tbody>\n",
       "    <tr>\n",
       "      <th>0</th>\n",
       "      <td>2010-08-06T02:46:40.000Z</td>\n",
       "      <td>en_GB</td>\n",
       "      <td>The heroin substitute methadone can be used as...</td>\n",
       "    </tr>\n",
       "    <tr>\n",
       "      <th>1</th>\n",
       "      <td>2010-10-12T08:54:42.000Z</td>\n",
       "      <td>en_GB</td>\n",
       "      <td>The eldest son of North Korean leader Kim Jong...</td>\n",
       "    </tr>\n",
       "    <tr>\n",
       "      <th>2</th>\n",
       "      <td>2010-10-27T17:35:24.000Z</td>\n",
       "      <td>en_GB</td>\n",
       "      <td>Seven oil paintings created by notorious gangs...</td>\n",
       "    </tr>\n",
       "    <tr>\n",
       "      <th>3</th>\n",
       "      <td>2010-10-08T13:21:50.000Z</td>\n",
       "      <td>en_GB</td>\n",
       "      <td>A 20-tonne bridge is being hauled into place b...</td>\n",
       "    </tr>\n",
       "    <tr>\n",
       "      <th>4</th>\n",
       "      <td>2010-09-22T17:35:34.000Z</td>\n",
       "      <td>en_GB</td>\n",
       "      <td>The final words written by a guardsman killed ...</td>\n",
       "    </tr>\n",
       "  </tbody>\n",
       "</table>\n",
       "</div>"
      ],
      "text/plain": [
       "             news_post_date language  \\\n",
       "0  2010-08-06T02:46:40.000Z    en_GB   \n",
       "1  2010-10-12T08:54:42.000Z    en_GB   \n",
       "2  2010-10-27T17:35:24.000Z    en_GB   \n",
       "3  2010-10-08T13:21:50.000Z    en_GB   \n",
       "4  2010-09-22T17:35:34.000Z    en_GB   \n",
       "\n",
       "                                             content  \n",
       "0  The heroin substitute methadone can be used as...  \n",
       "1  The eldest son of North Korean leader Kim Jong...  \n",
       "2  Seven oil paintings created by notorious gangs...  \n",
       "3  A 20-tonne bridge is being hauled into place b...  \n",
       "4  The final words written by a guardsman killed ...  "
      ]
     },
     "execution_count": 2,
     "metadata": {},
     "output_type": "execute_result"
    }
   ],
   "source": [
    "# Load data\n",
    "fileName = './bbc_news_list_uk.json'\n",
    "cols = ['news_post_date', 'language', 'content']\n",
    "\n",
    "with open(fileName, 'r') as f:\n",
    "  data = json.loads(f.read())\n",
    "\n",
    "df = pd.DataFrame(data = data, columns = cols)\n",
    "print('Total data:', len(df))\n",
    "df.head()"
   ]
  },
  {
   "cell_type": "code",
   "execution_count": 3,
   "metadata": {},
   "outputs": [
    {
     "name": "stdout",
     "output_type": "stream",
     "text": [
      "Total data: 15819\n"
     ]
    }
   ],
   "source": [
    "# Clean data\n",
    "df = df.drop(df[df['news_post_date'].str[:4] != '2010'].index)\n",
    "df = df.drop(df[df['language'] != 'en_GB'].index)\n",
    "df = df.dropna(axis=0)\n",
    "print('Total data:', len(df))"
   ]
  },
  {
   "cell_type": "code",
   "execution_count": 5,
   "metadata": {},
   "outputs": [],
   "source": [
    "# Two lists  of words that are used when a man or woman is present, based on Danielle Sucher's https://github.com/DanielleSucher/Jailbreak-the-Patriarchy\n",
    "male_words = set(['guy','spokesman','chairman',\"men's\",'men','him',\"he's\",'his','boy','boyfriend','boyfriends','boys','brother','brothers','dad','dads','dude','father','fathers','fiance','gentleman','gentlemen','god','grandfather','grandpa','grandson','groom','he','himself','husband','husbands','king','male','man','mr','nephew','nephews','priest','prince','son','sons','uncle','uncles','waiter','widower','widowers'])\n",
    "female_words = set(['heroine','spokeswoman','chairwoman',\"women's\",'actress','women',\"she's\",'her','aunt','aunts','bride','daughter','daughters','female','fiancee','girl','girlfriend','girlfriends','girls','goddess','granddaughter','grandma','grandmother','herself','ladies','lady','lady','mom','moms','mother','mothers','mrs','ms','niece','nieces','priestess','princess','queens','she','sister','sisters','waitress','widow','widows','wife','wives','woman'])"
   ]
  },
  {
   "cell_type": "code",
   "execution_count": 6,
   "metadata": {},
   "outputs": [],
   "source": [
    "# function to classify sentece into gender classes\n",
    "def gender_the_sentence(sentence_words):\n",
    "    mw_length = len(male_words.intersection(sentence_words))\n",
    "    fw_length = len(female_words.intersection(sentence_words))\n",
    "\n",
    "    if (mw_length > 0 and fw_length == 0):\n",
    "        gender = 'male'\n",
    "    elif (mw_length == 0 and fw_length > 0): \n",
    "        gender = 'female'\n",
    "    elif (mw_length > 0 and fw_length > 0): \n",
    "        gender = 'both'\n",
    "    else:\n",
    "        gender = 'none'\n",
    "    return gender"
   ]
  },
  {
   "cell_type": "code",
   "execution_count": 7,
   "metadata": {},
   "outputs": [],
   "source": [
    "# function to detect and count proper nouns\n",
    "def is_it_proper(word):\n",
    "        if (word[0] == word[0].upper()):\n",
    "            case = 'upper'\n",
    "        else:\n",
    "            case = 'lower'\n",
    "        \n",
    "        word_lower = word.lower()\n",
    "        try:\n",
    "            proper_nouns[word_lower][case] = proper_nouns[word_lower].get(case,0)+1\n",
    "        except Exception:\n",
    "            #This is triggered when the word hasn't been seen yet\n",
    "            proper_nouns[word_lower] = {case:1}"
   ]
  },
  {
   "cell_type": "code",
   "execution_count": 8,
   "metadata": {},
   "outputs": [],
   "source": [
    "# function to count sentences and words by gender\n",
    "def increment_gender(sentence_words,gender):\n",
    "    sentence_counter[gender] += 1\n",
    "    word_counter[gender] += len(sentence_words)\n",
    "    for word in sentence_words:\n",
    "        word_freq[gender][word] = word_freq[gender].get(word,0) + 1"
   ]
  },
  {
   "cell_type": "code",
   "execution_count": 9,
   "metadata": {},
   "outputs": [],
   "source": [
    "# variables declaration\n",
    "sexes = ['male','female','none','both']\n",
    "sentence_counter = {sex: 0 for sex in sexes}\n",
    "word_counter = {sex: 0 for sex in sexes}\n",
    "word_freq = {sex: {} for sex in sexes}\n",
    "proper_nouns = {}"
   ]
  },
  {
   "cell_type": "code",
   "execution_count": 10,
   "metadata": {},
   "outputs": [],
   "source": [
    "# Processing data\n",
    "\n",
    "tokenizer = nltk.data.load('./nltk_data/tokenizers/punkt/english.pickle')\n",
    "\n",
    "spill_senteces = []\n",
    "for index, row in df.iterrows():\n",
    "\n",
    "  # Fix sentence format by adding space after period\n",
    "  row['content'] = row['content'].replace(\".\",\". \")\n",
    "\n",
    "  # Split into sentences\n",
    "  sentences = tokenizer.tokenize(row['content'])\n",
    "  \n",
    "  for sentence in sentences:\n",
    "      # word tokenize and strip punctuation\n",
    "      sentence_words = re.split('\\W+', sentence)\n",
    "      sentence_words = list(filter(None, sentence_words))\n",
    "      \n",
    "      # Figure out how often each word is capitalized\n",
    "      [is_it_proper(word) for word in sentence_words[1:] if len(word) > 0]\n",
    "\n",
    "      # Lower case it\n",
    "      sentence_words = set([w.lower() for w in sentence_words])\n",
    "      \n",
    "      # Figure out if there are gendered words in the sentence by computing the length of the intersection of the sets\n",
    "      gender = gender_the_sentence(sentence_words)\n",
    "\n",
    "      # Increment some counters\n",
    "      increment_gender(sentence_words,gender)"
   ]
  },
  {
   "cell_type": "code",
   "execution_count": 11,
   "metadata": {},
   "outputs": [],
   "source": [
    "# Create a set of proper nouns\n",
    "proper_nouns = set([word for word in proper_nouns\n",
    "                    if (proper_nouns[word].get('upper',0) / (proper_nouns[word].get('upper',0) + proper_nouns[word].get('lower',0)) > 0.50)\n",
    "                  ])"
   ]
  },
  {
   "cell_type": "code",
   "execution_count": 12,
   "metadata": {},
   "outputs": [],
   "source": [
    "# Create a list of 1000 most common words from male and female word dictionaries\n",
    "common_words = set([w for w in sorted (word_freq['female'], key = word_freq['female'].get, reverse = True)[:1000]]\n",
    "                    + [w for w in sorted (word_freq['male'], key = word_freq['male'].get, reverse = True)[:1000]])\n",
    "\n",
    "common_words = list(common_words - male_words - female_words - proper_nouns)"
   ]
  },
  {
   "cell_type": "code",
   "execution_count": 13,
   "metadata": {},
   "outputs": [],
   "source": [
    "# Percentage of how likely the word appears in a male-subjected sentence\n",
    "male_percent = {\n",
    "  word: (word_freq['male'].get(word, 0) / word_counter['male']) / (word_freq['female'].get(word, 0) / word_counter['female'] + word_freq['male'].get(word, 0) / word_counter['male']) for word in common_words\n",
    "}"
   ]
  },
  {
   "attachments": {},
   "cell_type": "markdown",
   "metadata": {},
   "source": [
    "There is likely an imbalance in how many words are written about men and women. If a word is mentioned in 10 male-subjected sentences and 10 female-subject sentences, that could be taken as a sign of parity, but not if there a total of 20 female-subject (50%) sentences and 100 male-subject sentences (10%). Therefore, the formula in the cell above is used. Then the ratio of how likely the word appears in a male-subjected sentece versus female-subjected sentece can be calculated by (male_percent / (100 - male_percent))"
   ]
  },
  {
   "cell_type": "code",
   "execution_count": 14,
   "metadata": {},
   "outputs": [
    {
     "name": "stdout",
     "output_type": "stream",
     "text": [
      "30.4% gendered sentences\n",
      "56138 sentences about men.\n",
      "14956 sentences about women.\n",
      "3.8 sentences about men for each sentence about women.\n"
     ]
    }
   ],
   "source": [
    "# print sentence analysis result\n",
    "print('%.1f%% gendered sentences' % (100 * (sentence_counter['male'] + sentence_counter['female']) / (sentence_counter['male'] + sentence_counter['female'] + sentence_counter['both'] + sentence_counter['none'])))\n",
    "print('%s sentences about men.' % sentence_counter['male'])\n",
    "print('%s sentences about women.' % sentence_counter['female'])\n",
    "print('%.1f sentences about men for each sentence about women.' % (sentence_counter['male'] / sentence_counter['female']))"
   ]
  },
  {
   "attachments": {},
   "cell_type": "markdown",
   "metadata": {},
   "source": [
    "There are more sentences about men than women, which means there are more news with the subject being men. We can further analyze this after seeing the results of the word analysis."
   ]
  },
  {
   "cell_type": "code",
   "execution_count": 15,
   "metadata": {},
   "outputs": [
    {
     "name": "stdout",
     "output_type": "stream",
     "text": [
      "Male words\n",
      "Ratio\tMale\tFemale\tWord\n",
      "6.6\t203\t08\tshooting\n",
      "5.4\t144\t07\tspill\n",
      "4.0\t216\t14\tsoldier\n",
      "3.9\t163\t11\tremanded\n",
      "3.8\t233\t16\tgun\n",
      "3.7\t324\t23\tarmy\n",
      "3.3\t255\t20\tfootball\n",
      "3.2\t535\t43\tshot\n",
      "3.2\t318\t26\tdefence\n",
      "3.0\t287\t25\toil\n",
      "2.9\t259\t23\tarmed\n",
      "2.9\t179\t16\tlaws\n",
      "2.8\t183\t17\tal\n",
      "2.8\t204\t19\tsoldiers\n",
      "2.8\t381\t36\tcharges\n",
      "2.7\t335\t32\tmilitary\n",
      "2.7\t331\t32\tcustody\n",
      "2.7\t224\t22\tclub\n",
      "2.6\t223\t22\teconomy\n",
      "2.6\t190\t19\tcrisis\n",
      "2.6\t491\t50\tsecurity\n",
      "2.5\t156\t16\tgrowth\n",
      "2.5\t181\t19\tleaders\n",
      "2.5\t539\t57\tprime\n",
      "2.3\t188\t21\tleadership\n",
      "2.3\t178\t20\tattempted\n",
      "2.3\t1249\t143\tarrested\n",
      "2.2\t153\t18\tchancellor\n",
      "2.2\t297\t35\tcoalition\n",
      "2.2\t195\t23\tactions\n",
      "2.2\t169\t20\tministers\n",
      "2.2\t574\t69\tchief\n",
      "2.1\t148\t18\tairport\n",
      "2.1\t155\t19\tvideo\n",
      "2.1\t224\t28\tdeputy\n",
      "2.0\t322\t41\texecutive\n",
      "2.0\t382\t49\twar\n",
      "2.0\t184\t24\tbuild\n",
      "2.0\t152\t20\tserved\n",
      "1.9\t201\t27\tcolleagues\n",
      "1.9\t192\t26\tstabbed\n",
      "1.9\t286\t39\tforeign\n",
      "1.9\t314\t43\tforces\n",
      "1.9\t182\t25\tstand\n",
      "1.9\t167\t23\tcriminal\n",
      "1.9\t145\t20\tpeace\n",
      "1.9\t304\t42\tspending\n",
      "1.8\t141\t20\te\n",
      "1.8\t141\t20\tpolitics\n",
      "1.8\t218\t31\tremain\n",
      "\n",
      "\n",
      "\n",
      "Female words\n",
      "Ratio\tMale\tFemale\tWord\n",
      "57.5\t3\t45\tpregnancy\n",
      "30.3\t10\t79\tpregnant\n",
      "18.0\t10\t47\traped\n",
      "15.6\t15\t61\tbishops\n",
      "10.5\t15\t41\tbabies\n",
      "10.1\t14\t37\tbreast\n",
      "7.6\t44\t87\tbirth\n",
      "5.8\t82\t125\tbaby\n",
      "5.0\t41\t53\tsexually\n",
      "4.3\t33\t37\tdisappeared\n",
      "4.3\t33\t37\tbeautiful\n",
      "3.8\t38\t38\tward\n",
      "3.8\t88\t87\tcancer\n",
      "3.8\t49\t48\tteenage\n",
      "3.4\t91\t81\tassaulted\n",
      "3.3\t48\t41\telderly\n",
      "3.1\t88\t72\tbus\n",
      "3.0\t512\t401\tchildren\n",
      "3.0\t78\t61\tstudy\n",
      "3.0\t54\t42\tsmoke\n",
      "2.8\t57\t41\tbirthday\n",
      "2.7\t113\t81\twalking\n",
      "2.7\t242\t171\tcare\n",
      "2.5\t83\t55\tstudent\n",
      "2.4\t123\t78\tsexual\n",
      "2.4\t224\t142\tchild\n",
      "2.4\t180\t113\tmissing\n",
      "2.4\t71\t44\trape\n",
      "2.3\t87\t53\tsurgery\n",
      "2.3\t69\t41\tmarried\n",
      "2.2\t116\t68\tcharity\n",
      "2.2\t74\t43\talone\n",
      "2.2\t143\t81\tfeel\n",
      "2.2\t119\t67\tpatients\n",
      "2.2\t151\t85\tsex\n",
      "2.2\t64\t36\tbed\n",
      "2.2\t82\t46\tdoctors\n",
      "2.1\t209\t115\tage\n",
      "2.1\t81\t44\talbum\n",
      "2.1\t83\t45\textra\n",
      "2.1\t67\t36\tpatient\n",
      "2.0\t118\t63\tinquest\n",
      "2.0\t90\t48\tdrinking\n",
      "2.0\t98\t52\talcohol\n",
      "2.0\t235\t123\tparents\n",
      "2.0\t90\t46\treceive\n",
      "1.9\t187\t94\ttreatment\n",
      "1.9\t74\t37\teventually\n",
      "1.9\t111\t55\tdoor\n",
      "1.9\t97\t48\tteacher\n"
     ]
    }
   ],
   "source": [
    "# print analysis result of 50 distincitve male and female words\n",
    "header = 'Ratio\\tMale\\tFemale\\tWord'\n",
    "print('Male words')\n",
    "print(header)\n",
    "for word in sorted(male_percent, key = male_percent.get, reverse = True)[:50]:\n",
    "    try:\n",
    "        ratio = male_percent[word] / (1 - male_percent[word])\n",
    "    except:\n",
    "        ratio = 100\n",
    "    print ('%.1f\\t%02d\\t%02d\\t%s' % (ratio,word_freq['male'].get(word, 0),word_freq['female'].get(word, 0), word))\n",
    "\n",
    "print('\\n'*2)\n",
    "print('Female words')\n",
    "print(header)\n",
    "for word in sorted(male_percent, key = male_percent.get, reverse = False)[:50]:\n",
    "    try:\n",
    "        ratio = (1 - male_percent[word]) / male_percent[word]\n",
    "    except:\n",
    "        ratio = 100\n",
    "    print('%.1f\\t%01d\\t%01d\\t%s' % (ratio, word_freq['male'].get(word, 0), word_freq['female'].get(word, 0), word))"
   ]
  },
  {
   "attachments": {},
   "cell_type": "markdown",
   "metadata": {},
   "source": [
    "The most distinctive male word is 'spill'. This word is most likely related to the Deepwater Horizon oil spill which is one of the largest oil spill in history that occurred in 2010. Based on this analysis, the majority of subjects in reporting on oil spills are males, whether as the cause of the spill, the person trying to solve the problem, the victim, etc.\n",
    "\n",
    "The next 4 most distinctive male word are 'shooting', 'gun', 'soldier', and 'shot'. This illustrates that males were more related to shooting incidents and news about soldier.\n",
    "\n",
    "The rest of the most distinctive male words are related to war, criminal, and a little bit about politics which is fairly commonly reported by international news.\n",
    "\n",
    "The word 'football' is in the 11th rank if most distintive male words and is the only sport related word. This illustrates how the male UK citizen really like football as their sport.\n",
    "\n",
    "In the list of most distinctive female word, we can see that the top 5 words are all related to pregnancy and baby. This makes sense because female do have more to do with it rather than male.\n",
    "\n",
    "The rest of the most distinctive female words are generally related to health."
   ]
  }
 ],
 "metadata": {
  "kernelspec": {
   "display_name": "base",
   "language": "python",
   "name": "python3"
  },
  "language_info": {
   "codemirror_mode": {
    "name": "ipython",
    "version": 3
   },
   "file_extension": ".py",
   "mimetype": "text/x-python",
   "name": "python",
   "nbconvert_exporter": "python",
   "pygments_lexer": "ipython3",
   "version": "3.9.13"
  },
  "orig_nbformat": 4,
  "vscode": {
   "interpreter": {
    "hash": "40d3a090f54c6569ab1632332b64b2c03c39dcf918b08424e98f38b5ae0af88f"
   }
  }
 },
 "nbformat": 4,
 "nbformat_minor": 2
}
