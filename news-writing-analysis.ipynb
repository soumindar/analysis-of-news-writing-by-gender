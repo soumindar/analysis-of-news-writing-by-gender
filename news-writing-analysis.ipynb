{
 "cells": [
  {
   "cell_type": "code",
   "execution_count": 1,
   "metadata": {},
   "outputs": [],
   "source": [
    "import pandas as pd\n",
    "import json\n",
    "import nltk\n",
    "import re"
   ]
  },
  {
   "cell_type": "code",
   "execution_count": 2,
   "metadata": {},
   "outputs": [
    {
     "name": "stdout",
     "output_type": "stream",
     "text": [
      "15825\n"
     ]
    },
    {
     "data": {
      "text/html": [
       "<div>\n",
       "<style scoped>\n",
       "    .dataframe tbody tr th:only-of-type {\n",
       "        vertical-align: middle;\n",
       "    }\n",
       "\n",
       "    .dataframe tbody tr th {\n",
       "        vertical-align: top;\n",
       "    }\n",
       "\n",
       "    .dataframe thead th {\n",
       "        text-align: right;\n",
       "    }\n",
       "</style>\n",
       "<table border=\"1\" class=\"dataframe\">\n",
       "  <thead>\n",
       "    <tr style=\"text-align: right;\">\n",
       "      <th></th>\n",
       "      <th>news_post_date</th>\n",
       "      <th>language</th>\n",
       "      <th>content</th>\n",
       "    </tr>\n",
       "  </thead>\n",
       "  <tbody>\n",
       "    <tr>\n",
       "      <th>0</th>\n",
       "      <td>2010-08-06T02:46:40.000Z</td>\n",
       "      <td>en_GB</td>\n",
       "      <td>The heroin substitute methadone can be used as...</td>\n",
       "    </tr>\n",
       "    <tr>\n",
       "      <th>1</th>\n",
       "      <td>2010-10-12T08:54:42.000Z</td>\n",
       "      <td>en_GB</td>\n",
       "      <td>The eldest son of North Korean leader Kim Jong...</td>\n",
       "    </tr>\n",
       "    <tr>\n",
       "      <th>2</th>\n",
       "      <td>2010-10-27T17:35:24.000Z</td>\n",
       "      <td>en_GB</td>\n",
       "      <td>Seven oil paintings created by notorious gangs...</td>\n",
       "    </tr>\n",
       "    <tr>\n",
       "      <th>3</th>\n",
       "      <td>2010-10-08T13:21:50.000Z</td>\n",
       "      <td>en_GB</td>\n",
       "      <td>A 20-tonne bridge is being hauled into place b...</td>\n",
       "    </tr>\n",
       "    <tr>\n",
       "      <th>4</th>\n",
       "      <td>2010-09-22T17:35:34.000Z</td>\n",
       "      <td>en_GB</td>\n",
       "      <td>The final words written by a guardsman killed ...</td>\n",
       "    </tr>\n",
       "  </tbody>\n",
       "</table>\n",
       "</div>"
      ],
      "text/plain": [
       "             news_post_date language  \\\n",
       "0  2010-08-06T02:46:40.000Z    en_GB   \n",
       "1  2010-10-12T08:54:42.000Z    en_GB   \n",
       "2  2010-10-27T17:35:24.000Z    en_GB   \n",
       "3  2010-10-08T13:21:50.000Z    en_GB   \n",
       "4  2010-09-22T17:35:34.000Z    en_GB   \n",
       "\n",
       "                                             content  \n",
       "0  The heroin substitute methadone can be used as...  \n",
       "1  The eldest son of North Korean leader Kim Jong...  \n",
       "2  Seven oil paintings created by notorious gangs...  \n",
       "3  A 20-tonne bridge is being hauled into place b...  \n",
       "4  The final words written by a guardsman killed ...  "
      ]
     },
     "execution_count": 2,
     "metadata": {},
     "output_type": "execute_result"
    }
   ],
   "source": [
    "# Load data\n",
    "fileName = './bbc_news_list_uk.json'\n",
    "cols = ['news_post_date', 'language', 'content']\n",
    "\n",
    "with open(fileName, 'r') as f:\n",
    "  data = json.loads(f.read())\n",
    "\n",
    "df = pd.DataFrame(data=data, columns=cols)\n",
    "print (len(df))\n",
    "df.head()"
   ]
  },
  {
   "cell_type": "code",
   "execution_count": 3,
   "metadata": {},
   "outputs": [
    {
     "name": "stdout",
     "output_type": "stream",
     "text": [
      "15819\n"
     ]
    }
   ],
   "source": [
    "# Clean data\n",
    "df = df.drop(df[df['news_post_date'].str[:4] != '2010'].index)\n",
    "df = df.drop(df[df['language'] != 'en_GB'].index)\n",
    "df = df.dropna(axis=0)\n",
    "print (len(df))"
   ]
  },
  {
   "cell_type": "code",
   "execution_count": 4,
   "metadata": {},
   "outputs": [],
   "source": [
    "# Two lists  of words that are used when a man or woman is present, based on Danielle Sucher's https://github.com/DanielleSucher/Jailbreak-the-Patriarchy\n",
    "male_words=set(['guy','spokesman','chairman',\"men's\",'men','him',\"he's\",'his','boy','boyfriend','boyfriends','boys','brother','brothers','dad','dads','dude','father','fathers','fiance','gentleman','gentlemen','god','grandfather','grandpa','grandson','groom','he','himself','husband','husbands','king','male','man','mr','nephew','nephews','priest','prince','son','sons','uncle','uncles','waiter','widower','widowers'])\n",
    "female_words=set(['heroine','spokeswoman','chairwoman',\"women's\",'actress','women',\"she's\",'her','aunt','aunts','bride','daughter','daughters','female','fiancee','girl','girlfriend','girlfriends','girls','goddess','granddaughter','grandma','grandmother','herself','ladies','lady','lady','mom','moms','mother','mothers','mrs','ms','niece','nieces','priestess','princess','queens','she','sister','sisters','waitress','widow','widows','wife','wives','woman'])"
   ]
  },
  {
   "cell_type": "code",
   "execution_count": 5,
   "metadata": {},
   "outputs": [],
   "source": [
    "def gender_the_sentence(sentence_words):\n",
    "    mw_length=len(male_words.intersection(sentence_words))\n",
    "    fw_length=len(female_words.intersection(sentence_words))\n",
    "\n",
    "    if mw_length>0 and fw_length==0:\n",
    "        gender='male'\n",
    "    elif mw_length==0 and fw_length>0: \n",
    "        gender='female'\n",
    "    elif mw_length>0 and fw_length>0: \n",
    "        gender='both'\n",
    "    else:\n",
    "        gender='none'\n",
    "    return gender"
   ]
  },
  {
   "cell_type": "code",
   "execution_count": 6,
   "metadata": {},
   "outputs": [],
   "source": [
    "def is_it_proper(word):\n",
    "        if word[0]==word[0].upper():\n",
    "            case='upper'\n",
    "        else:\n",
    "            case='lower'\n",
    "        \n",
    "        word_lower=word.lower()\n",
    "        try:\n",
    "            proper_nouns[word_lower][case] = proper_nouns[word_lower].get(case,0)+1\n",
    "        except Exception:\n",
    "            #This is triggered when the word hasn't been seen yet\n",
    "            proper_nouns[word_lower]= {case:1}"
   ]
  },
  {
   "cell_type": "code",
   "execution_count": 7,
   "metadata": {},
   "outputs": [],
   "source": [
    "def increment_gender(sentence_words,gender):\n",
    "    sentence_counter[gender]+=1\n",
    "    word_counter[gender]+=len(sentence_words)\n",
    "    for word in sentence_words:\n",
    "        word_freq[gender][word]=word_freq[gender].get(word,0)+1"
   ]
  },
  {
   "cell_type": "code",
   "execution_count": 8,
   "metadata": {},
   "outputs": [],
   "source": [
    "sexes=['male','female','none','both']\n",
    "sentence_counter={sex:0 for sex in sexes}\n",
    "word_counter={sex:0 for sex in sexes}\n",
    "word_freq={sex:{} for sex in sexes}\n",
    "proper_nouns={}"
   ]
  },
  {
   "cell_type": "code",
   "execution_count": 40,
   "metadata": {},
   "outputs": [
    {
     "data": {
      "text/plain": [
       "['asd', 'asd', 'asdasd', 'asd', '']"
      ]
     },
     "execution_count": 40,
     "metadata": {},
     "output_type": "execute_result"
    }
   ],
   "source": [
    "w = 'asd.asd  asdasd ! asd!'\n",
    "re.split('\\W+', w)"
   ]
  },
  {
   "cell_type": "code",
   "execution_count": 10,
   "metadata": {},
   "outputs": [],
   "source": [
    "tokenizer = nltk.data.load('./nltk_data/tokenizers/punkt/english.pickle')\n",
    "\n",
    "for index, row in df.iterrows():\n",
    "\n",
    "  #Split into sentences\n",
    "  sentences = tokenizer.tokenize(row['content'])\n",
    "  \n",
    "  for sentence in sentences:\n",
    "      #word tokenize and strip punctuation\n",
    "      sentence_words = re.split('\\W+', sentence)\n",
    "      \n",
    "      #figure out how often each word is capitalized\n",
    "      [is_it_proper(word) for word in sentence_words[1:] if len(word) > 0]\n",
    "\n",
    "      #lower case it\n",
    "      sentence_words = set([w.lower() for w in sentence_words])\n",
    "      \n",
    "      #Figure out if there are gendered words in the sentence by computing the length of the intersection of the sets\n",
    "      gender = gender_the_sentence(sentence_words)\n",
    "\n",
    "      #Increment some counters\n",
    "      increment_gender(sentence_words,gender)"
   ]
  },
  {
   "cell_type": "code",
   "execution_count": 11,
   "metadata": {},
   "outputs": [],
   "source": [
    "proper_nouns = set([word for word in proper_nouns if  \n",
    "                  proper_nouns[word].get('upper',0) / \n",
    "                  (proper_nouns[word].get('upper',0) + \n",
    "                   proper_nouns[word].get('lower',0))>.50])"
   ]
  },
  {
   "cell_type": "code",
   "execution_count": 12,
   "metadata": {},
   "outputs": [],
   "source": [
    "common_words = set([w for w in sorted (word_freq['female'], key = word_freq['female'].get, reverse = True)[:1000]]\n",
    "                  + [w for w in sorted (word_freq['male'], key = word_freq['male'].get, reverse = True)[:1000]])\n",
    "\n",
    "common_words = list(common_words-male_words-female_words-proper_nouns)"
   ]
  },
  {
   "cell_type": "code",
   "execution_count": 13,
   "metadata": {},
   "outputs": [],
   "source": [
    "male_percent = {\n",
    "  word: (word_freq['male'].get(word,0) / word_counter['male']) / (word_freq['female'].get(word,0) / word_counter['female']+word_freq['male'].get(word,0)/word_counter['male']) for word in common_words\n",
    "}"
   ]
  },
  {
   "cell_type": "code",
   "execution_count": 14,
   "metadata": {},
   "outputs": [
    {
     "name": "stdout",
     "output_type": "stream",
     "text": [
      "35.8% gendered\n",
      "34417 sentences about men.\n",
      "8109 sentences about women.\n",
      "4.2 sentences about men for each sentence about women.\n"
     ]
    }
   ],
   "source": [
    "print ('%.1f%% gendered' % (100*(sentence_counter['male']+sentence_counter['female'])/\n",
    "                           (sentence_counter['male']+sentence_counter['female']+sentence_counter['both']+sentence_counter['none'])))\n",
    "print ('%s sentences about men.' % sentence_counter['male'])\n",
    "print ('%s sentences about women.' % sentence_counter['female'])\n",
    "print ('%.1f sentences about men for each sentence about women.' % (sentence_counter['male']/sentence_counter['female']))"
   ]
  },
  {
   "cell_type": "code",
   "execution_count": 16,
   "metadata": {},
   "outputs": [
    {
     "name": "stdout",
     "output_type": "stream",
     "text": [
      "Male words\n",
      "Ratio\tMale\tFemale\tWord\n",
      "5.9\t200\t07\tspill\n",
      "4.9\t238\t10\tshooting\n",
      "3.9\t247\t13\tgun\n",
      "3.8\t236\t13\tsoldier\n",
      "3.4\t488\t30\tshot\n",
      "3.4\t211\t13\tal\n",
      "2.9\t1055\t75\tarrested\n",
      "2.9\t406\t29\tdefence\n",
      "2.9\t374\t27\tarmy\n",
      "2.9\t692\t50\tprime\n",
      "2.8\t322\t24\tfootball\n",
      "2.8\t199\t15\telections\n",
      "2.7\t310\t24\tsoldiers\n",
      "2.6\t214\t17\toperations\n",
      "2.5\t293\t24\tleaders\n",
      "2.5\t292\t24\tcustody\n",
      "2.5\t481\t40\tmilitary\n",
      "2.4\t200\t17\tfighting\n",
      "2.4\t702\t61\tsecurity\n",
      "2.4\t442\t39\toil\n",
      "2.3\t234\t21\tvalue\n",
      "2.3\t295\t27\tministers\n",
      "2.2\t238\t22\tgrowth\n",
      "2.2\t351\t33\tdenied\n",
      "2.2\t329\t31\tarmed\n",
      "2.2\t411\t39\tcharges\n",
      "2.2\t239\t23\tconvicted\n",
      "2.1\t474\t46\tforces\n",
      "2.1\t328\t32\tofficial\n",
      "2.1\t327\t32\ttax\n",
      "2.1\t295\t29\tkilling\n",
      "2.1\t324\t32\ttroops\n",
      "2.1\t575\t57\taccused\n",
      "2.1\t258\t26\tcrisis\n",
      "2.1\t208\t21\tcorrespondent\n",
      "2.1\t316\t32\tbail\n",
      "2.0\t236\t24\tclub\n",
      "2.0\t226\t23\tchancellor\n",
      "2.0\t195\t20\tpublished\n",
      "2.0\t438\t45\tforeign\n",
      "2.0\t271\t28\tsuspicion\n",
      "2.0\t338\t35\talleged\n",
      "1.9\t467\t50\tspending\n",
      "1.9\t504\t54\twar\n",
      "1.9\t224\t24\tcriminal\n",
      "1.9\t274\t30\tjailed\n",
      "1.9\t219\t24\tallegations\n",
      "1.9\t200\t22\tdeficit\n",
      "1.9\t215\t24\tarrest\n",
      "1.9\t250\t28\tconnection\n",
      "\n",
      "\n",
      "\n",
      "Female words\n",
      "Ratio\tMale\tFemale\tWord\n",
      "37.8\t7\t55\tpregnant\n",
      "35.3\t6\t44\tpregnancy\n",
      "12.9\t19\t51\tbabies\n",
      "8.6\t44\t79\tbirth\n",
      "7.2\t62\t93\tbaby\n",
      "4.0\t88\t74\tcancer\n",
      "3.2\t139\t93\tpatients\n",
      "2.9\t580\t352\tchildren\n",
      "2.8\t287\t168\tcare\n",
      "2.8\t65\t38\tresearchers\n",
      "2.7\t103\t58\twalking\n",
      "2.6\t73\t40\tsurvey\n",
      "2.6\t84\t46\tpatient\n",
      "2.6\t260\t140\tparents\n",
      "2.5\t74\t38\tbirthday\n",
      "2.5\t169\t86\tcharity\n",
      "2.4\t233\t118\tchild\n",
      "2.4\t100\t50\tprimary\n",
      "2.4\t113\t56\talcohol\n",
      "2.4\t93\t46\tdrinking\n",
      "2.4\t170\t84\tfeel\n",
      "2.3\t127\t61\tstudy\n",
      "2.3\t105\t50\tsexual\n",
      "2.3\t82\t39\tsmoke\n",
      "2.2\t107\t50\tstudent\n",
      "2.2\t217\t100\ttreatment\n",
      "2.2\t135\t62\tsex\n",
      "2.2\t107\t49\tdoctors\n",
      "2.2\t102\t46\tsinger\n",
      "2.2\t114\t51\tbus\n",
      "2.1\t96\t42\tfacilities\n",
      "2.0\t113\t47\tdoor\n",
      "2.0\t186\t76\td\n",
      "1.9\t217\t87\tfilm\n",
      "1.9\t100\t40\tfinding\n",
      "1.9\t210\t84\toften\n",
      "1.9\t514\t205\thealth\n",
      "1.9\t111\t44\tdrink\n",
      "1.9\t96\t38\tdoesn\n",
      "1.9\t152\t60\taward\n",
      "1.9\t135\t53\tlack\n",
      "1.9\t103\t40\tespecially\n",
      "1.9\t106\t41\thair\n",
      "1.8\t198\t76\tmissing\n",
      "1.8\t594\t227\tschool\n",
      "1.8\t166\t63\tcouple\n",
      "1.8\t119\t44\tteacher\n",
      "1.8\t233\t86\tassembly\n",
      "1.8\t581\t213\tyoung\n",
      "1.8\t107\t39\tvulnerable\n"
     ]
    }
   ],
   "source": [
    "header ='Ratio\\tMale\\tFemale\\tWord'\n",
    "print ('Male words')\n",
    "print (header)\n",
    "for word in sorted (male_percent, key = male_percent.get, reverse = True)[:50]:\n",
    "    try:\n",
    "        ratio = male_percent[word] / (1 - male_percent[word])\n",
    "    except:\n",
    "        ratio = 100\n",
    "    print ('%.1f\\t%02d\\t%02d\\t%s' % (ratio,word_freq['male'].get(word,0),word_freq['female'].get(word,0),word))\n",
    "\n",
    "print ('\\n'*2)\n",
    "print ('Female words')\n",
    "print (header)\n",
    "for word in sorted (male_percent,key=male_percent.get,reverse=False)[:50]:\n",
    "    try:\n",
    "        ratio=(1-male_percent[word])/male_percent[word]\n",
    "    except:\n",
    "        ratio=100\n",
    "    print ('%.1f\\t%01d\\t%01d\\t%s' % (ratio,word_freq['male'].get(word,0),word_freq['female'].get(word,0),word))\n"
   ]
  },
  {
   "cell_type": "code",
   "execution_count": 17,
   "metadata": {},
   "outputs": [
    {
     "name": "stdout",
     "output_type": "stream",
     "text": [
      "word\tMale\tFemale\n",
      "\t99.9%\t99.9%\n",
      "the\t80.0%\t75.8%\n",
      "to\t62.5%\t59.5%\n",
      "of\t57.7%\t51.7%\n",
      "and\t56.5%\t54.5%\n",
      "a\t58.4%\t54.4%\n",
      "in\t54.4%\t48.6%\n",
      "said\t45.6%\t40.9%\n",
      "is\t28.2%\t26.6%\n",
      "for\t31.2%\t29.4%\n",
      "that\t30.6%\t26.7%\n",
      "on\t32.5%\t27.6%\n",
      "was\t38.3%\t33.4%\n",
      "it\t24.9%\t24.8%\n",
      "s\t27.5%\t25.1%\n",
      "he\t59.2%\t0.0%\n",
      "have\t20.6%\t19.7%\n",
      "with\t23.2%\t20.8%\n",
      "be\t20.9%\t18.3%\n",
      "at\t23.2%\t21.3%\n",
      "has\t23.4%\t20.5%\n",
      "by\t20.1%\t16.2%\n",
      "from\t19.2%\t18.1%\n",
      "are\t14.6%\t14.6%\n",
      "been\t20.1%\t17.1%\n",
      "as\t19.3%\t16.9%\n",
      "but\t17.6%\t15.7%\n",
      "not\t15.9%\t14.1%\n",
      "had\t19.1%\t16.5%\n",
      "this\t12.7%\t12.0%\n",
      "will\t12.5%\t11.0%\n",
      "were\t15.2%\t13.2%\n",
      "an\t16.2%\t13.7%\n",
      "they\t12.1%\t12.0%\n",
      "we\t11.4%\t11.9%\n",
      "who\t14.8%\t14.2%\n",
      "which\t11.8%\t9.8%\n",
      "his\t26.7%\t0.0%\n",
      "i\t10.1%\t12.1%\n",
      "mr\t27.0%\t0.0%\n",
      "people\t9.2%\t9.2%\n",
      "their\t8.9%\t10.4%\n",
      "would\t12.0%\t9.7%\n",
      "year\t11.1%\t10.4%\n",
      "there\t8.8%\t9.1%\n",
      "also\t10.1%\t8.7%\n",
      "after\t11.6%\t10.3%\n",
      "about\t10.0%\t9.8%\n",
      "more\t7.7%\t7.5%\n",
      "one\t8.7%\t8.2%\n",
      "police\t10.0%\t7.4%\n",
      "up\t7.9%\t7.7%\n",
      "out\t8.1%\t7.2%\n",
      "its\t6.7%\t5.0%\n",
      "when\t8.6%\t7.9%\n",
      "two\t8.1%\t6.4%\n",
      "all\t6.4%\t6.0%\n",
      "or\t6.3%\t6.0%\n",
      "she\t0.0%\t54.0%\n",
      "new\t6.2%\t5.3%\n",
      "government\t6.7%\t4.6%\n",
      "over\t6.5%\t5.3%\n",
      "being\t6.8%\t6.4%\n",
      "than\t5.7%\t4.9%\n",
      "years\t6.5%\t5.8%\n",
      "can\t4.6%\t4.8%\n",
      "some\t5.6%\t4.9%\n",
      "into\t6.0%\t5.2%\n",
      "could\t6.1%\t5.5%\n",
      "us\t6.0%\t4.0%\n",
      "if\t5.3%\t4.8%\n",
      "time\t5.8%\t5.1%\n",
      "no\t5.8%\t4.7%\n",
      "so\t4.8%\t4.6%\n",
      "other\t5.7%\t4.8%\n",
      "last\t5.8%\t5.2%\n",
      "says\t6.7%\t6.5%\n",
      "them\t4.7%\t4.8%\n",
      "now\t5.1%\t4.7%\n",
      "told\t7.7%\t6.0%\n",
      "our\t4.2%\t3.9%\n",
      "what\t4.7%\t4.3%\n",
      "t\t4.2%\t5.2%\n",
      "first\t4.7%\t4.5%\n",
      "her\t0.0%\t28.5%\n",
      "old\t5.7%\t6.0%\n",
      "man\t9.4%\t0.0%\n",
      "three\t4.8%\t4.0%\n",
      "before\t5.1%\t4.0%\n",
      "000\t4.1%\t3.4%\n",
      "made\t4.5%\t4.1%\n",
      "very\t4.1%\t4.2%\n",
      "uk\t3.8%\t3.0%\n",
      "may\t3.9%\t3.9%\n",
      "added\t7.1%\t6.3%\n",
      "public\t4.0%\t3.0%\n",
      "work\t3.7%\t3.6%\n",
      "many\t3.5%\t3.4%\n",
      "you\t2.9%\t3.7%\n",
      "any\t3.9%\t3.3%\n"
     ]
    }
   ],
   "source": [
    "all_words=[w for w in word_freq['none']]+[w for w in word_freq['both']]+[w for w in word_freq['male']]+[w for w in word_freq['female']]\n",
    "all_words={w:(word_freq['male'].get(w,0)+word_freq['female'].get(w,0)+word_freq['both'].get(w,0)+word_freq['none'].get(w,0)) for w in set(all_words)}\n",
    "\n",
    "print ('word\\tMale\\tFemale')\n",
    "for word in sorted (all_words,key=all_words.get,reverse=True)[:100]:\n",
    "    print ('%s\\t%.1f%%\\t%.1f%%' % (word,100*word_freq['male'].get(word,0)/sentence_counter['male'],100*word_freq['female'].get(word,0)/sentence_counter['female']))"
   ]
  }
 ],
 "metadata": {
  "kernelspec": {
   "display_name": "base",
   "language": "python",
   "name": "python3"
  },
  "language_info": {
   "codemirror_mode": {
    "name": "ipython",
    "version": 3
   },
   "file_extension": ".py",
   "mimetype": "text/x-python",
   "name": "python",
   "nbconvert_exporter": "python",
   "pygments_lexer": "ipython3",
   "version": "3.9.13"
  },
  "orig_nbformat": 4,
  "vscode": {
   "interpreter": {
    "hash": "40d3a090f54c6569ab1632332b64b2c03c39dcf918b08424e98f38b5ae0af88f"
   }
  }
 },
 "nbformat": 4,
 "nbformat_minor": 2
}
